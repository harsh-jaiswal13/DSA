{
  "cells": [
    {
      "cell_type": "markdown",
      "metadata": {
        "id": "view-in-github",
        "colab_type": "text"
      },
      "source": [
        "<a href=\"https://colab.research.google.com/github/harsh-jaiswal13/DSA/blob/main/login_appliction.ipynb\" target=\"_parent\"><img src=\"https://colab.research.google.com/assets/colab-badge.svg\" alt=\"Open In Colab\"/></a>"
      ]
    },
    {
      "cell_type": "markdown",
      "metadata": {
        "id": "--FzGBzN3sKq"
      },
      "source": [
        "To run the application \n",
        "run the cell and call the function start_program()"
      ]
    },
    {
      "cell_type": "code",
      "execution_count": null,
      "metadata": {
        "id": "fdqSg4hx2L1l"
      },
      "outputs": [],
      "source": [
        "from datetime import datetime\n",
        "log_book={}\n",
        "class app:\n",
        "  def __init__(self,name):\n",
        "    self.name=name\n",
        "\n",
        "\n",
        "  def contact(self):\n",
        "    print(\"enter mobile no.\")\n",
        "    temp=\"\"\n",
        "    while(1):\n",
        "      temp=input()\n",
        "      if(temp[0]!='0'):\n",
        "        print(\"invalid input :No. should starts with zero \\n Re-enter\")\n",
        "      elif(len(temp)!=10):\n",
        "        print(\"Invalid input:There must be 10 digits. \\n Re-enter\")\n",
        "      elif(not temp.isdigit()):\n",
        "        print(\"Invalid input:must not containother than the no. \\n Re-enter\")\n",
        "      else:\n",
        "        self.contact=temp\n",
        "        return 1\n",
        "        \n",
        "  def make_password(self):\n",
        "    while(1):\n",
        "      print(\"Enter password\")\n",
        "      k=input()\n",
        "      if ('@' not in k[1:])  and  ('&' not in k[1:]):\n",
        "        print(\"Warning: weak password must contain special characters\")\n",
        "      elif not k[-1].isdigit():\n",
        "        print(\"Password must ends with no.\") \n",
        "      else:\n",
        "        print(\"Confirm password\")\n",
        "        kp=input()\n",
        "\n",
        "        if k==kp:\n",
        "          self.password=kp \n",
        "          return 1\n",
        "        else:\n",
        "          print(\"Password not matching\\n Please start again\")\n",
        "          \n",
        "  def chk_age(self):\n",
        "    print(\"Please Enter your Date of Birth #DD/MM/YYY(No Space):\")\n",
        "    while(1):\n",
        "      date=str(input())\n",
        "      format_data = \"%d/%m/%Y\"\n",
        "      try:\n",
        "        date = datetime.strptime(date, format_data)\n",
        "        if((2022-date.year)<21):\n",
        "          print(\"Invalid age\\n Re-enter the DOB\")\n",
        "        else:\n",
        "          self.age=2022-date.year\n",
        "          return 1\n",
        "        \n",
        "      except Exception as e:\n",
        "        print(\"Enter valid date\")  "
      ]
    },
    {
      "cell_type": "code",
      "execution_count": null,
      "metadata": {
        "id": "4NO2rIKF2SHZ"
      },
      "outputs": [],
      "source": [
        "def start_program():\n",
        "  while(1):\n",
        "    print('''1- Sign up \\n2- Sign in \\n3- Quit application''')\n",
        "    task=int(input())\n",
        "    if task==1:\n",
        "      print(\"Enter your Name\")\n",
        "      name=str(input())\n",
        "      temp=app(name)\n",
        "      if(temp.contact()+temp.chk_age()+temp.make_password())==3:\n",
        "        print(\"signed up Successfully\")\n",
        "      log_book[name]=temp\n",
        "    \n",
        "    elif(task==2):\n",
        "      print(\"Enter your name\")\n",
        "      name=input()\n",
        "      print(\"enter password\")\n",
        "      key=input()\n",
        "      if name in log_book:\n",
        "        if(log_book[name].password==key):\n",
        "          print(\"login sucessfully\")\n",
        "        else:\n",
        "          print(\"Either Username or password  wrong\")\n",
        "      else:\n",
        "        print(\"no record found\")    \n",
        "\n",
        "    else:\n",
        "      print(\"Program quit\")\n",
        "      break"
      ]
    },
    {
      "cell_type": "code",
      "execution_count": null,
      "metadata": {
        "colab": {
          "background_save": true,
          "base_uri": "https://localhost:8080/"
        },
        "id": "6bH43i0f2bxC",
        "outputId": "c30ea601-d5e4-4cb0-eb03-ed8142db145d"
      },
      "outputs": [
        {
          "name": "stdout",
          "output_type": "stream",
          "text": [
            "1- Sign up \n",
            "2- Sign in \n",
            "3- Quit application\n"
          ]
        }
      ],
      "source": [
        "start_program()\n"
      ]
    }
  ],
  "metadata": {
    "colab": {
      "provenance": [],
      "authorship_tag": "ABX9TyNP2P2u0hXLFEAFOARnAXBP",
      "include_colab_link": true
    },
    "kernelspec": {
      "display_name": "Python 3",
      "name": "python3"
    },
    "language_info": {
      "name": "python"
    }
  },
  "nbformat": 4,
  "nbformat_minor": 0
}